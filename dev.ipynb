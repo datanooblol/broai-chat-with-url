{
 "cells": [
  {
   "cell_type": "markdown",
   "id": "6ad6c886-d66a-40e5-9842-259cdb2372be",
   "metadata": {},
   "source": [
    "# GPU affects embeding speed\n",
    "- only when encoding many sentences at once\n",
    "- one sentence in online flow is fine, but in offline flow takes time"
   ]
  },
  {
   "cell_type": "code",
   "execution_count": 1,
   "id": "e0467be8-0ade-4d71-b827-c9f21b83557e",
   "metadata": {},
   "outputs": [
    {
     "name": "stderr",
     "output_type": "stream",
     "text": [
      "/home/ec2-user/SageMaker/broai-chat-with-url/.venv/lib/python3.12/site-packages/tqdm/auto.py:21: TqdmWarning: IProgress not found. Please update jupyter and ipywidgets. See https://ipywidgets.readthedocs.io/en/stable/user_install.html\n",
      "  from .autonotebook import tqdm as notebook_tqdm\n"
     ]
    }
   ],
   "source": [
    "from broai.experiments.huggingface_embedding import BAAIEmbedding"
   ]
  },
  {
   "cell_type": "code",
   "execution_count": 2,
   "id": "51354c51-adf2-4512-a5e7-0e078e58ab21",
   "metadata": {},
   "outputs": [
    {
     "name": "stderr",
     "output_type": "stream",
     "text": [
      "/tmp/ipykernel_9048/107190707.py:1: UserWarning: [EXPERIMENT] You're using an experimental module, which is subject to change in future.: BAAIEmbedding\n",
      "  baai_em = BAAIEmbedding()\n",
      "Fetching 30 files: 100%|██████████| 30/30 [00:32<00:00,  1.08s/it]\n"
     ]
    }
   ],
   "source": [
    "baai_em = BAAIEmbedding()"
   ]
  },
  {
   "cell_type": "code",
   "execution_count": 16,
   "id": "c4100bc8-dd19-4b15-91e5-3a2539b6701c",
   "metadata": {},
   "outputs": [],
   "source": [
    "sentences=[f\"Test Idea {i+1}\" for i in range(1000)]"
   ]
  },
  {
   "cell_type": "code",
   "execution_count": 10,
   "id": "2d8388be-3313-4b2b-a1d9-070bd77e85d6",
   "metadata": {},
   "outputs": [
    {
     "name": "stderr",
     "output_type": "stream",
     "text": [
      "pre tokenize: 100%|██████████| 4/4 [00:00<00:00, 303.72it/s]\n",
      "Inference Embeddings: 100%|██████████| 4/4 [00:31<00:00,  7.98s/it]"
     ]
    },
    {
     "name": "stdout",
     "output_type": "stream",
     "text": [
      "CPU times: user 39 s, sys: 952 ms, total: 40 s\n",
      "Wall time: 40.5 s\n"
     ]
    },
    {
     "name": "stderr",
     "output_type": "stream",
     "text": [
      "\n"
     ]
    }
   ],
   "source": [
    "%%time\n",
    "_ = baai_em.run(sentences=sentences)"
   ]
  },
  {
   "cell_type": "code",
   "execution_count": 11,
   "id": "d53a4420-aaf0-4d6f-9010-86db2b304208",
   "metadata": {},
   "outputs": [],
   "source": [
    "model_id = \"BAAI/bge-large-en-v1.5\"\n",
    "\n",
    "from FlagEmbedding import BGEM3FlagModel"
   ]
  },
  {
   "cell_type": "code",
   "execution_count": 13,
   "id": "db19af8f-82dc-4454-88f4-d223d772e885",
   "metadata": {},
   "outputs": [],
   "source": [
    "params = {}\n",
    "params['model_name_or_path'] = model_id"
   ]
  },
  {
   "cell_type": "code",
   "execution_count": 15,
   "id": "275b83ea-4367-4efb-972f-ecfa85f510cc",
   "metadata": {},
   "outputs": [
    {
     "name": "stderr",
     "output_type": "stream",
     "text": [
      "Fetching 14 files: 100%|██████████| 14/14 [00:00<00:00, 88301.14it/s]\n"
     ]
    }
   ],
   "source": [
    "baai_em_lv15 = BGEM3FlagModel(**params)"
   ]
  },
  {
   "cell_type": "code",
   "execution_count": 19,
   "id": "cb3f0f4b-6d76-4fe1-ba0a-efbe6809654d",
   "metadata": {},
   "outputs": [
    {
     "name": "stdout",
     "output_type": "stream",
     "text": [
      "CPU times: user 804 ms, sys: 0 ns, total: 804 ms\n",
      "Wall time: 803 ms\n"
     ]
    }
   ],
   "source": [
    "%%time\n",
    "_ = baai_em_lv15.encode(sentences[:2])"
   ]
  },
  {
   "cell_type": "code",
   "execution_count": 2,
   "id": "bed2091a-32a2-4772-be01-af36fb4e54ef",
   "metadata": {},
   "outputs": [],
   "source": [
    "from broai.llm_management.ollama import BedrockOllamaChat\n",
    "model = BedrockOllamaChat()"
   ]
  },
  {
   "cell_type": "code",
   "execution_count": 3,
   "id": "01347ab9-90c9-4214-a72a-906706979ef8",
   "metadata": {},
   "outputs": [
    {
     "data": {
      "text/plain": [
       "{'role': 'user', 'content': [{'text': 'Test'}]}"
      ]
     },
     "execution_count": 3,
     "metadata": {},
     "output_type": "execute_result"
    }
   ],
   "source": [
    "model.UserMessage(text=\"Test\")"
   ]
  },
  {
   "cell_type": "code",
   "execution_count": null,
   "id": "a368a275-663e-42f8-bb83-f295c26c9ee5",
   "metadata": {},
   "outputs": [],
   "source": []
  }
 ],
 "metadata": {
  "kernelspec": {
   "display_name": "cwu",
   "language": "python",
   "name": "broai-cwu"
  },
  "language_info": {
   "codemirror_mode": {
    "name": "ipython",
    "version": 3
   },
   "file_extension": ".py",
   "mimetype": "text/x-python",
   "name": "python",
   "nbconvert_exporter": "python",
   "pygments_lexer": "ipython3",
   "version": "3.12.9"
  }
 },
 "nbformat": 4,
 "nbformat_minor": 5
}
