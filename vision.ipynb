{
 "cells": [
  {
   "cell_type": "code",
   "execution_count": 20,
   "id": "7cc5056d-2d83-4e7d-afab-555b93444d49",
   "metadata": {},
   "outputs": [
    {
     "name": "stdout",
     "output_type": "stream",
     "text": [
      "A \"Hello, World!\" program is a simple program that displays the text \"Hello, World!\" on the screen, serving as a basic example to introduce programming concepts and test the functionality of a programming environment.\n"
     ]
    }
   ],
   "source": [
    "# Use the native inference API to send a text message to Meta Llama 3.\n",
    "\n",
    "import boto3\n",
    "import json\n",
    "\n",
    "from botocore.exceptions import ClientError\n",
    "\n",
    "# Create a Bedrock Runtime client in the AWS Region of your choice.\n",
    "client = boto3.client(\"bedrock-runtime\", region_name=\"us-west-2\")\n",
    "\n",
    "# Set the model ID, e.g., Llama 3 70b Instruct.\n",
    "model_id = \"us.meta.llama3-2-11b-instruct-v1:0\"\n",
    "\n",
    "# Define the prompt for the model.\n",
    "prompt = \"Describe the purpose of a 'hello world' program in one line.\"\n",
    "\n",
    "# Embed the prompt in Llama 3's instruction format.\n",
    "formatted_prompt = f\"\"\"\n",
    "<|begin_of_text|><|start_header_id|>user<|end_header_id|>\n",
    "{prompt}\n",
    "<|eot_id|>\n",
    "<|start_header_id|>assistant<|end_header_id|>\n",
    "\"\"\"\n",
    "\n",
    "# Format the request payload using the model's native structure.\n",
    "native_request = {\n",
    "    \"prompt\": formatted_prompt,\n",
    "    \"max_gen_len\": 512,\n",
    "    \"temperature\": 0.5,\n",
    "}\n",
    "\n",
    "# Convert the native request to JSON.\n",
    "request = json.dumps(native_request)\n",
    "\n",
    "try:\n",
    "    # Invoke the model with the request.\n",
    "    response = client.invoke_model(modelId=model_id, body=request)\n",
    "\n",
    "except (ClientError, Exception) as e:\n",
    "    print(f\"ERROR: Can't invoke '{model_id}'. Reason: {e}\")\n",
    "    exit(1)\n",
    "\n",
    "# Decode the response body.\n",
    "model_response = json.loads(response[\"body\"].read())\n",
    "\n",
    "# Extract and print the response text.\n",
    "response_text = model_response[\"generation\"]\n",
    "print(response_text)\n",
    "\n",
    "\n"
   ]
  },
  {
   "cell_type": "code",
   "execution_count": 113,
   "id": "af3034d2-a5af-41bd-a127-b4b2e7f88539",
   "metadata": {},
   "outputs": [],
   "source": [
    "filename = \"temp.webp\"\n",
    "with open(f\"./img/{filename}\", \"rb\") as image_file:\n",
    "    image_bytes = image_file.read()"
   ]
  },
  {
   "cell_type": "code",
   "execution_count": 114,
   "id": "66011342-4223-4807-b358-87aa44719a40",
   "metadata": {},
   "outputs": [],
   "source": [
    "def UserMessage(text, image_bytes=None, image_format=None):\n",
    "    content = [{\"text\": text}]\n",
    "    if image_bytes:\n",
    "        image = {\"image\": {\"format\": image_format, \"source\": {\"bytes\": image_bytes}}}\n",
    "        content.append(image)\n",
    "    return {\"role\": \"user\", \"content\": content}\n",
    "\n",
    "\n",
    "def AIMessage(text):\n",
    "    return {\"role\": \"assistant\", \"content\": [{\"text\": text}]}\n",
    "\n",
    "\n",
    "def extract_response(response):\n",
    "    return response[\"output\"][\"message\"][\"content\"][0][\"text\"]"
   ]
  },
  {
   "cell_type": "code",
   "execution_count": 120,
   "id": "7325a491-a98e-450a-8ebd-dd2c116ea30b",
   "metadata": {},
   "outputs": [],
   "source": [
    "messages = [UserMessage(text=\"What is in the image?\", image_bytes=image_bytes, image_format=\"webp\")]\n",
    "\n",
    "response = client.converse(\n",
    "    modelId=model_id,\n",
    "    messages=messages\n",
    ")"
   ]
  },
  {
   "cell_type": "code",
   "execution_count": 121,
   "id": "af9d5c6a-efa2-40bb-b759-e200be79db2e",
   "metadata": {},
   "outputs": [],
   "source": [
    "messages.append(AIMessage(text=response[\"output\"][\"message\"][\"content\"][0][\"text\"]))\n",
    "# this one yes yes: b/c image must be add only once in the chat history, so add them only the last message\n",
    "messages.append(UserMessage(text=\"How many of them?\"))\n",
    "# this one no no\n",
    "# messages.append(UserMessage(text=\"How many color do you see?\", image_bytes=image_bytes, image_format=\"png\"))"
   ]
  },
  {
   "cell_type": "code",
   "execution_count": 122,
   "id": "ffdbf041-cc71-44cf-abce-ad46a1defc64",
   "metadata": {},
   "outputs": [],
   "source": [
    "response = client.converse(\n",
    "    modelId=model_id,\n",
    "    messages=messages\n",
    ")"
   ]
  },
  {
   "cell_type": "code",
   "execution_count": 123,
   "id": "42321bd4-6e18-4656-a7ff-e9f9034d45fe",
   "metadata": {},
   "outputs": [
    {
     "data": {
      "text/plain": [
       "'There is one piglet in the image.'"
      ]
     },
     "execution_count": 123,
     "metadata": {},
     "output_type": "execute_result"
    }
   ],
   "source": [
    "extract_response(response)"
   ]
  },
  {
   "cell_type": "code",
   "execution_count": null,
   "id": "24e3daad-09be-4861-8201-514a6de3ae21",
   "metadata": {},
   "outputs": [],
   "source": []
  }
 ],
 "metadata": {
  "kernelspec": {
   "display_name": "cwu",
   "language": "python",
   "name": "broai-cwu"
  },
  "language_info": {
   "codemirror_mode": {
    "name": "ipython",
    "version": 3
   },
   "file_extension": ".py",
   "mimetype": "text/x-python",
   "name": "python",
   "nbconvert_exporter": "python",
   "pygments_lexer": "ipython3",
   "version": "3.12.9"
  }
 },
 "nbformat": 4,
 "nbformat_minor": 5
}
